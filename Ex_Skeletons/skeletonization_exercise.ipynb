{
 "cells": [
  {
   "cell_type": "markdown",
   "id": "8567103a",
   "metadata": {},
   "source": [
    "# Skeletonization and medial surface exercise"
   ]
  },
  {
   "cell_type": "code",
   "execution_count": null,
   "id": "6dce710f",
   "metadata": {},
   "outputs": [],
   "source": [
    "from pygel3d import hmesh, jupyter_display as jd, gl_display as gl\n",
    "from pygel3d.graph import Graph, from_mesh, LS_skeleton, edge_contract, smooth\n",
    "from skimage.morphology import skeletonize_3d, medial_axis\n",
    "from skimage.filters import laplace\n",
    "from numpy import array, ndindex, ndarray, ceil, zeros, where, transpose\n",
    "from scipy.spatial import KDTree\n",
    "jd.set_export_mode(True)"
   ]
  },
  {
   "cell_type": "code",
   "execution_count": null,
   "id": "1aa6e5ca",
   "metadata": {},
   "outputs": [],
   "source": [
    "# Load the mesh. We use the Armadillo for this one\n",
    "m = hmesh.load(\"arma.obj\")"
   ]
  },
  {
   "cell_type": "code",
   "execution_count": null,
   "id": "91d0ac1f",
   "metadata": {},
   "outputs": [],
   "source": [
    "# Creating a distance field volume.\n",
    "# The code below uses PyGEL3D's MeshDistance class to create\n",
    "# a distance field.\n",
    "D = hmesh.MeshDistance(m)\n",
    "min_pt, max_pt = hmesh.bbox(m)\n",
    "diag = max_pt - min_pt\n",
    "dims = tuple(int(x) for x in ceil(diag))\n",
    "df = ndarray(dims)\n",
    "for ijk in ndindex(dims):\n",
    "    df[ijk] = D.signed_distance(min_pt + array(ijk))"
   ]
  },
  {
   "cell_type": "markdown",
   "id": "0b63892f",
   "metadata": {},
   "source": [
    "### Part 1: Binary volume thinning"
   ]
  },
  {
   "cell_type": "code",
   "execution_count": null,
   "id": "ec37a124",
   "metadata": {},
   "outputs": [],
   "source": [
    "# This function takes a binary 3D image as input together with an offset.\n",
    "# A graph is constructed from the non-zero voxels and returned.\n",
    "# Notes: Each non-zero voxel is converted to a point by adding the offset to its \n",
    "# index. The edges of the graph are created by connecting graph nodes closer\n",
    "# than sqrt(3).\n",
    "def binary_volume_to_graph(binary_volume, offset):\n",
    "    g = Graph() # The output graph\n",
    "    # Insert code below -------->\n",
    "    \n",
    "    # 1. First convert non-zero voxels to points and add these\n",
    "    # as nodes to the graph.\n",
    "    # 2. Use KDTree to find nodes closer than sqrt(3) and connect those \n",
    "    # to form the edges. \n",
    "\n",
    "    # <---------------\n",
    "    return g"
   ]
  },
  {
   "cell_type": "code",
   "execution_count": null,
   "id": "ffa10aad",
   "metadata": {},
   "outputs": [],
   "source": [
    "# Convert the distance field to a binary volume and use 'skeletonize_3d' to thin it\n",
    "# to a skeleton represented as a binary image.\n",
    "bf = zeros(dims)\n",
    "# Insert code below -------->\n",
    "\n",
    "# <---------------\n",
    "thin_skel = binary_volume_to_graph(bf_thin, min_pt)\n",
    "jd.display(thin_skel)"
   ]
  },
  {
   "cell_type": "markdown",
   "id": "5847e8d4",
   "metadata": {},
   "source": [
    "### Part 2: Medial Axis using the Laplacian"
   ]
  },
  {
   "cell_type": "code",
   "execution_count": null,
   "id": "33ba1746",
   "metadata": {},
   "outputs": [],
   "source": [
    "# Compute the Laplacian of the volume (e.g. using laplace from skimage.filters)\n",
    "# Threshold the Laplacian to find a volumetric approximation of the medial axis\n",
    "bf = zeros(dims)\n",
    "# Insert code below -------->\n",
    "\n",
    "# <--------------\n",
    "# Convert the binary volume approximation of the medial axis to a graph\n",
    "lap_skel = binary_volume_to_graph(bf, min_pt)\n",
    "# Display\n",
    "jd.display(lap_skel)"
   ]
  },
  {
   "cell_type": "code",
   "execution_count": null,
   "id": "ac5aa009",
   "metadata": {},
   "outputs": [],
   "source": [
    "# You may want to additionally show the skeleton in the GL viewer\n",
    "# this makes it easier to visually ascertain where the medial points\n",
    "# are in the shape.\n",
    "v = gl.Viewer()\n",
    "v.display(m, lap_skel, mode='x')\n",
    "del v"
   ]
  },
  {
   "cell_type": "markdown",
   "id": "6712aac9",
   "metadata": {},
   "source": [
    "### Part 3: Local separator skeleton"
   ]
  },
  {
   "cell_type": "code",
   "execution_count": null,
   "id": "b6dab412",
   "metadata": {},
   "outputs": [],
   "source": [
    "# Create a graph from the mesh and use the local separators (LS) method to\n",
    "# compute the skeleton from this graph. \n",
    "# Insert code below -------->\n",
    "\n",
    "# <-------------\n",
    "# Finally, display the skeleton.\n",
    "jd.display(ls_skel)"
   ]
  },
  {
   "cell_type": "markdown",
   "id": "06ebb415",
   "metadata": {},
   "source": [
    "## Questions\n",
    "\n",
    "- Is the medial axis a curve skeleton?\n",
    "- How do you decide if a point lies on the medial axis?\n",
    "- What is a vertex separator in a graph?\n",
    "- Is a Reeb-graph a curve skeleton or does it represent the medial axis of an object? \n",
    "- Explain how the local separator method could have been used to construct a skeleton from the binary volume rather than using the thinning method. As a non-mandatory bonus task, try to do that in practice."
   ]
  }
 ],
 "metadata": {
  "kernelspec": {
   "display_name": "Python 3 (ipykernel)",
   "language": "python",
   "name": "python3"
  },
  "language_info": {
   "codemirror_mode": {
    "name": "ipython",
    "version": 3
   },
   "file_extension": ".py",
   "mimetype": "text/x-python",
   "name": "python",
   "nbconvert_exporter": "python",
   "pygments_lexer": "ipython3",
   "version": "3.10.8"
  }
 },
 "nbformat": 4,
 "nbformat_minor": 5
}
