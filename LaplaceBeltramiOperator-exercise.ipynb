{
 "cells": [
  {
   "cell_type": "markdown",
   "metadata": {},
   "source": [
    "# The Laplace Beltrami Operator, Spectral Mesh Analysis and Geodesics\n",
    "In this exercise, you will first build the Laplace-Beltrami operator and subsequently apply it to several tasks ranging from smoothing of meshes to decomposing a mesh in terms of the eigenvectors of the operator (the spectral analysis) to computing shortest distances on a mesh."
   ]
  },
  {
   "cell_type": "code",
   "execution_count": null,
   "metadata": {},
   "outputs": [],
   "source": [
    "from pygel3d import hmesh, jupyter_display as jd, gl_display as gl\n",
    "jd.set_export_mode(True)\n",
    "from numpy import zeros, eye, array, linalg, transpose, dot, cross, sin, exp\n",
    "from scipy.linalg import eigh, solve\n",
    "from itertools import permutations, combinations\n",
    "from math import tan, acos, cos, sqrt\n",
    "from random import random\n",
    "from scipy.spatial import KDTree"
   ]
  },
  {
   "cell_type": "markdown",
   "metadata": {},
   "source": [
    "## Part 1: Create the Laplace Beltrami Operator\n",
    "Below your task is to create the LBO as a matrix given an input mesh. Use the cotan formula from the slides and course notes. In this part, you should normalize each row with the 1-ring area of the corresponding vertex."
   ]
  },
  {
   "cell_type": "code",
   "execution_count": null,
   "metadata": {},
   "outputs": [],
   "source": [
    "def normalize(v):\n",
    "    return v / linalg.norm(v)\n",
    "\n",
    "# The function below is a helper function. The idea is that you give it a mesh and\n",
    "# three vertices from a triangle. i and j define the edge, and k is the vertex at which \n",
    "# you compute cotan of the angle. \n",
    "def cotan_angle(m,i,j,k):\n",
    "    \n",
    "    # Your code here\n",
    "    # ---------------------------\n",
    "\n",
    "# This function is passed a mesh and returns the cotan LBO \n",
    "def create_laplacian(m, symmetric=False):\n",
    "    # symmetric is a flag that you can choose in order to make the matrix L symmetric or not\n",
    "    no_verts = m.no_allocated_vertices()\n",
    "    L = zeros((no_verts,no_verts)) # The cot Laplacian that we end up outputting \n",
    "    A = zeros((no_verts)) # Use this vector to store 1-ring areas\n",
    "    \n",
    "    # Your code here\n",
    "    # ---------------------------\n",
    "    \n",
    "    \n",
    "    \n",
    "    return L\n",
    "\n",
    "# Load the mesh and make safe copy of vertex positions\n",
    "m = hmesh.load(\"data/bunnygtest.obj\")\n",
    "pos = m.positions()\n",
    "pos_orig = array(pos)\n",
    "N = m.no_allocated_vertices()"
   ]
  },
  {
   "cell_type": "markdown",
   "metadata": {},
   "source": [
    "## Part 2: Smooth the Mesh using the LBO"
   ]
  },
  {
   "cell_type": "code",
   "execution_count": null,
   "metadata": {},
   "outputs": [],
   "source": [
    "# Adding noise\n",
    "pos_noisy = pos_orig[:] + 0.0025* array([[random(),random(),random()] for _ in range(0,N)])\n",
    "pos[:] = pos_noisy\n",
    "\n",
    "# Show noisy mesh\n",
    "jd.display(m,smooth=False)"
   ]
  },
  {
   "cell_type": "code",
   "execution_count": null,
   "metadata": {},
   "outputs": [],
   "source": [
    "# Explicit smoothing.\n",
    "#\n",
    "# Explicit smoothing is simply a matrix multiplication. Try several step sizes and \n",
    "# note how the effect changes. Also, try to perform several iterations of smoothing.\n",
    "#\n",
    "\n",
    "# Your code here\n",
    "# ---------------------------\n",
    "\n",
    "jd.display(m,smooth=False)\n",
    "\n",
    "# Resetting to noisy positions\n",
    "pos[:] = pos_noisy"
   ]
  },
  {
   "cell_type": "code",
   "execution_count": null,
   "metadata": {},
   "outputs": [],
   "source": [
    "# Implicit smoothing\n",
    "#\n",
    "# Implicit smoothing requires solving a linear system. Try several step sizes\n",
    "# and note the differences compared to explicit smoothing.\n",
    "\n",
    "# Your code here\n",
    "# ---------------------------\n",
    "\n",
    "jd.display(m,smooth=False)\n",
    "\n",
    "# Resetting to noisy positions\n",
    "pos[:] = pos_noisy\n",
    "\n"
   ]
  },
  {
   "cell_type": "markdown",
   "metadata": {},
   "source": [
    "## Part 3: Compute the Eigenvectors and Eigenvalues of the LBO\n",
    "You need to slightly change the code that computes the Laplace Beltrami Operator to obtain a symmetric matrix suitable for eigendecomposition. Use the formula in 1.3.2. This code also visualizes some of the eigenvectors. "
   ]
  },
  {
   "cell_type": "code",
   "execution_count": null,
   "metadata": {},
   "outputs": [],
   "source": [
    "#Reset positions to non-noisy values\n",
    "pos[:] = pos_orig\n",
    "\n",
    "# Compute the symmetric Laplacian\n",
    "L = #\n",
    "\n",
    "# Next, find the eigenvectors and eigenvalues of the symmetric Laplacian\n",
    "# In fact, we need to use -L because that way the eigenvectors are positive.\n",
    "\n",
    "# Your code here\n",
    "# ---------------------------\n",
    "\n",
    "(W,V) = #\n",
    "\n",
    "# Now display some of the eigenvectors. The code below uses the OpenGL viewer\n",
    "# uncomment to use.\n",
    "\n",
    "#viewer = gl.Viewer()\n",
    "#for i in range(20):\n",
    "#    print(W[i])\n",
    "#    viewer.display(m,mode='s',smooth=True,data=V[:,i])\n",
    "#del viewer\n",
    "jd.display(m,data=V[:,2])"
   ]
  },
  {
   "cell_type": "markdown",
   "metadata": {},
   "source": [
    "## Part 4: Project the Positions onto the LBO Eigenvectors\n",
    "This is the actual spectral analysis where we do something similar to the Fourier transform for images by projecting the vertex positions onto eigenvectors of the LBO."
   ]
  },
  {
   "cell_type": "code",
   "execution_count": null,
   "metadata": {},
   "outputs": [],
   "source": [
    "# Function that analyses a signal by projecting onto the eigenvectors\n",
    "def analyze_signal(V, sig):\n",
    "    \n",
    "    # Your code here\n",
    "    # ---------------------------\n",
    "    \n",
    "    return #\n",
    "    \n",
    "# Reconstruct a signal by taking linear combinations of eigenvectors\n",
    "def recon_signal(V, sig_hat):\n",
    "    \n",
    "    # Your code here\n",
    "    # ---------------------------\n",
    "    \n",
    "    return #\n",
    "\n",
    "\n",
    "# Projecting positions onto Laplace-Beltrami operator eigenvectors\n",
    "pos_hat = analyze_signal(V,pos)\n",
    "\n",
    "# Showing iterative reconstruction\n",
    "# The viewer below will show an animation of the reconstruction, and you\n",
    "# may want to uncomment.\n",
    "#viewer = gl.Viewer()\n",
    "#viewer.display(m,'w',smooth=True,reset_view=True)\n",
    "for i in range(50):\n",
    "    mask = array([[1,1,1]]*i+[[0,0,0]]*(N-i))\n",
    "    pos[:] = recon_signal(V,pos_hat*mask)\n",
    "#    viewer.display(m,'w',smooth=True, once=True)\n",
    "\n",
    "# Display result after reconstruction with 50 eigenvectors\n",
    "jd.display(m)\n",
    "# Resetting positions\n",
    "pos[:] = pos_orig\n",
    "#del viewer"
   ]
  },
  {
   "cell_type": "markdown",
   "metadata": {},
   "source": [
    "## Part 5: Boost the high frequencies.\n",
    "In this part, we boost the high frequencies, creating a caricature of the original mesh. Experiment with both the magnitude and what frequencies that you boost."
   ]
  },
  {
   "cell_type": "code",
   "execution_count": null,
   "metadata": {},
   "outputs": [],
   "source": [
    "# Boosting high frequencies\n",
    "#viewer = gl.Viewer()\n",
    "\n",
    "# Compute here boosting of high frequencies\n",
    "pos_hat = analyze_signal(V,pos_orig)\n",
    "\n",
    "# Your code here\n",
    "# ---------------------------\n",
    "\n",
    "\n",
    "pos[:] = recon_signal(V,pos_hat)\n",
    "\n",
    "#viewer.display(m,'w',smooth=True)\n",
    "jd.display(m)\n",
    "\n",
    "# Resetting positions\n",
    "pos[:] = pos_orig\n",
    "#del viewer"
   ]
  },
  {
   "cell_type": "code",
   "execution_count": null,
   "metadata": {},
   "outputs": [],
   "source": [
    "# Boosting high frequencies\n",
    "#viewer = gl.Viewer()\n",
    "pos_hat = analyze_signal(V,pos_orig)\n",
    "\n",
    "# Your code here\n",
    "# ---------------------------\n",
    "\n",
    "\n",
    "pos[:] = recon_signal(V,pos_hat)\n",
    "\n",
    "#viewer.display(m,'w',smooth=True)\n",
    "jd.display(m)\n",
    "\n",
    "# Resetting positions\n",
    "pos[:] = pos_orig\n",
    "#del viewer"
   ]
  },
  {
   "cell_type": "markdown",
   "metadata": {},
   "source": [
    "## Part 6: Geodesics with Laplace Beltrami Operator\n",
    "In this part of the exercise, we use the Laplace Beltrami Operator to compute the geodesic distance to a source vertex for each vertex of the mesh. The geodesic distance from a point on the mesh to the source vertex is the distance along the shortest geodesic that connects the point to the source vertex. The method that you implement in this exercise is based on the paper: **\"The Heat Method for Distance Computation\"** by Crane, Weischedel and Wardetzky (2013), and the basic idea is to first solve the heat equation and then find a distance field whose gradients are (approximately) aligned with the gradients of the solution to the heat equation.\n",
    "\n",
    "Specifically, this part of the exercise is a 3-step process, where we: \n",
    "\n",
    "1) Integrate the heat flow $\\dot{u} = \\Delta u$ where the initial condition is a $\\delta$ function placed at the source vertex.\n",
    "\n",
    "2) Evaluate the vector field $X = - \\nabla u_t / |\\nabla u_t|$\n",
    "\n",
    "3) Solve the Poission euqation $\\Delta \\phi = \\nabla \\cdot X$\n",
    "\n"
   ]
  },
  {
   "cell_type": "markdown",
   "metadata": {},
   "source": [
    "### Part 6.1\n",
    "This part corresponds to step 1). You should set the time step $t$ and then integrate $u$, which corresponds to the step 1) in the introduction. **Note:** $u \\in \\mathbb{R}^{|V|}$. "
   ]
  },
  {
   "cell_type": "code",
   "execution_count": null,
   "metadata": {},
   "outputs": [],
   "source": [
    "m = hmesh.load(\"bunnygtest.obj\")"
   ]
  },
  {
   "cell_type": "markdown",
   "metadata": {},
   "source": [
    "A crucial part of the heat distance method is setting the time step $t$. A simple estimate that works well is: $t =k \\cdot h^2$, where $h$ is the average edge length and $k$ is a suitable constant."
   ]
  },
  {
   "cell_type": "code",
   "execution_count": null,
   "metadata": {},
   "outputs": [],
   "source": [
    "# Setting the time step t. Experiment with this number \n",
    "\n",
    "# Your code here\n",
    "# ---------------------------\n",
    "t = # "
   ]
  },
  {
   "cell_type": "code",
   "execution_count": null,
   "metadata": {},
   "outputs": [],
   "source": [
    "# Setting a source vertex from where heat should emerge. \n",
    "source_vertex = 836\n",
    "\n",
    "# Or pick the source vertex interactively by uncommenting the code below.\n",
    "# Hit \"Crtl\" and click on the point that you want. Then afterwards hit Escape.\n",
    "\n",
    "#viewer = gl.Viewer()\n",
    "#viewer.display(m)\n",
    "#tree = KDTree(m.positions())\n",
    "#_, index = tree.query(viewer.annotation_points(), k=1)\n",
    "#source_vertex = index[0]\n",
    "#del viewer"
   ]
  },
  {
   "cell_type": "markdown",
   "metadata": {},
   "source": [
    "Now, you need to solve the heat equation where the initial value of $u$ is a delta function placed at the source vertex, $x$. Fortunately, we know that the solution to the heat equation where $u(0) =\\delta_{x}$ is simply the heat kernel placed at $x$. The heat kernel we can express in terms of LBO eigenvectors and eigenvalues,\n",
    "\n",
    "$u \\approx \\sum_{i=1}^N \\exp{(-t \\cdot \\lambda_i)} \\cdot \\mathbf{e}_{i,x} \\cdot \\mathbf{e}_i$,\n",
    "\n",
    "where $\\lambda_i$ is the i'th eigenvalue and $\\mathbf{e}_{i,x}$ is the source vertex'th entry of eigenvector $\\mathbf{e}_{i}$. $N$ is a suitable number of eigenvalues/eigenvectors. Note that the bigger $t$ is, the less high-numbered eigenvectors count (why?)."
   ]
  },
  {
   "cell_type": "code",
   "execution_count": null,
   "metadata": {},
   "outputs": [],
   "source": [
    "def u_integrated(W, V, N, t, source_vertex):\n",
    "    # Your code here\n",
    "    # ---------------------------\n",
    "    return u_vector"
   ]
  },
  {
   "cell_type": "code",
   "execution_count": null,
   "metadata": {},
   "outputs": [],
   "source": [
    "N = len(W)\n",
    "u = u_integrated(W, V, N, t, source_vertex)"
   ]
  },
  {
   "cell_type": "markdown",
   "metadata": {},
   "source": [
    "### Part 6.2\n",
    "In this part you need to compute the vector field $X = -\\nabla u_t / |\\nabla u_t|$ and from this compute the divergence $\\nabla \\cdot X$. This corresponds to step 2) in the introduction.\n",
    "\n",
    "**Note:** $X$ is a $3\\times 1$ vector."
   ]
  },
  {
   "cell_type": "code",
   "execution_count": null,
   "metadata": {},
   "outputs": [],
   "source": [
    "# Compute the 3x1 vector X at a triangle face. \n",
    "# The input to the function is the mesh m, the solution u from Part 2 and the index f of a given triangle face\n",
    "def computeVector(m,u,f):\n",
    "    # Your code Here \n",
    "    #-------------------------------\n",
    "    \n",
    "    return X"
   ]
  },
  {
   "cell_type": "code",
   "execution_count": null,
   "metadata": {},
   "outputs": [],
   "source": [
    "# This function computes the divergence (nabla X) at each vertex.\n",
    "# The input to the function is the mesh m and the solution u from Part 2.\n",
    "# The function should return the |V|x1 vector b\n",
    "def computeDivergence(m,u):\n",
    "    pos = m.positions()\n",
    "    b = zeros(m.no_allocated_vertices())\n",
    "    for v in m.vertices():\n",
    "        for h in m.circulate_vertex(v,mode='h'):\n",
    "            e1 = pos[m.incident_vertex(h)] - pos[v]\n",
    "            e2 = pos[m.incident_vertex(m.next_halfedge(h))] - pos[v]\n",
    "            vec1 = pos[m.incident_vertex(m.next_halfedge(h))] - pos[m.incident_vertex(h)]\n",
    "            theta2 = acos(dot(-e1,vec1)/(linalg.norm(-e1)*linalg.norm(vec1)))\n",
    "            theta1 = acos(dot(-e2,-vec1)/(linalg.norm(-e2)*linalg.norm(-vec1)))\n",
    "            cot_theta2 = 1.0/tan(theta2)\n",
    "            cot_theta1 = 1.0/tan(theta1)\n",
    "            Xj = computeVector(m, u, m.incident_face(h))\n",
    "            b[v] += cot_theta1 * dot(e1, Xj) + cot_theta2 * dot(e2, Xj)\n",
    "        b[v] *= 0.5\n",
    "    return b"
   ]
  },
  {
   "cell_type": "markdown",
   "metadata": {},
   "source": [
    "### Part 6.3\n",
    "In this part of the exercise, you are supposed to create the matrix $L_c$ and then solve the linear system of equations $L_c \\phi = b$ in order to find the geodesic distances to the other vertices. This corresponds to step 3) in the introduction. **Note:** $b \\in \\mathbb{R}^{|V|}$ and the i'th entry in $b$ is the divergence $\\nabla \\cdot X$ at the i'th vertex in the mesh. "
   ]
  },
  {
   "cell_type": "code",
   "execution_count": null,
   "metadata": {},
   "outputs": [],
   "source": [
    "# This function is passed a mesh and returns the cotan operator matrix L_c\n",
    "def create_cotan_laplacian(m):\n",
    "    no_verts = m.no_allocated_vertices()\n",
    "    # The cot Laplacian that we end up outputting. It should be the same as before but without the weight \n",
    "    # normalization\n",
    "    Lc = zeros((no_verts,no_verts)) \n",
    "    \n",
    "\n",
    "    # Your code here\n",
    "    # ---------------------------\n",
    "    return Lc"
   ]
  },
  {
   "cell_type": "code",
   "execution_count": null,
   "metadata": {},
   "outputs": [],
   "source": [
    "# Create the Laplace Cotangent Matrix\n",
    "Lc = create_cotan_laplacian(m)"
   ]
  },
  {
   "cell_type": "code",
   "execution_count": null,
   "metadata": {},
   "outputs": [],
   "source": [
    "b = computeDivergence(m,u)"
   ]
  },
  {
   "cell_type": "code",
   "execution_count": null,
   "metadata": {},
   "outputs": [],
   "source": [
    "phi = linalg.solve(Lc,b)"
   ]
  },
  {
   "cell_type": "markdown",
   "metadata": {},
   "source": [
    "**Note:** Now we have obtained $\\phi$, but the solution to $\\Delta \\phi = \\nabla \\cdot X$ is only determined up to an additive constant (Why?). Therefore, we simply need to shift $\\phi$, such that the minimum (located at the source vertex) is at $0.0$."
   ]
  },
  {
   "cell_type": "code",
   "execution_count": null,
   "metadata": {},
   "outputs": [],
   "source": [
    "# Your code here\n",
    "# ---------------------------\n",
    "print(\"Distance at source vertex is:\", phi[source_vertex])"
   ]
  },
  {
   "cell_type": "code",
   "execution_count": null,
   "metadata": {},
   "outputs": [],
   "source": [
    "# Code to show the heat kernel. \n",
    "# You might need to play around with the constant times u\n",
    "#jd.display(m, data=np.sin(u*2))"
   ]
  },
  {
   "cell_type": "code",
   "execution_count": null,
   "metadata": {},
   "outputs": [],
   "source": [
    "# Plot the result - You should see rings of equal size that display euqal distance to the source vertex\n",
    "# We multiply with the constant only to show the periodic pattern.\n",
    "#jd.display(m, data=phi)\n",
    "jd.display(m, data=sin(phi*300))"
   ]
  },
  {
   "cell_type": "markdown",
   "metadata": {},
   "source": [
    "### Part 7: Questions\n",
    "- Explain the difference in principle and effect between implicit and explicit smoothing.\n",
    "> Answer:\n",
    "- Explain how smoothing with the LBO operator is different from simply assigning the average positions of neighbors to a vertex. (an operator that is sometimes called the umbrella operator),\n",
    "> Answer:\n",
    "- Explain what the first two eigenvectors of the LBO represent (eigenvector 0 and 1).\n",
    "> Answer:\n",
    "- Explain what boosting of high frequencies does to the geometry.\n",
    "> Answer: \n",
    "- Why is the geodesic distance different from the Euclidean distance?\n",
    "> Answer:\n",
    "- Given the distance map computed in 6.3, how would we find a geodesic curve that connects an arbitrary point back to the source vertex?\n",
    "> Answer\n",
    "- Why does The Heat Method for computing distances above only approximate the true geodesic distance?\n",
    "> Answer"
   ]
  }
 ],
 "metadata": {
  "kernelspec": {
   "display_name": "02580_F23",
   "language": "python",
   "name": "02580_f23"
  },
  "language_info": {
   "codemirror_mode": {
    "name": "ipython",
    "version": 3
   },
   "file_extension": ".py",
   "mimetype": "text/x-python",
   "name": "python",
   "nbconvert_exporter": "python",
   "pygments_lexer": "ipython3",
   "version": "3.9.16"
  },
  "latex_envs": {
   "LaTeX_envs_menu_present": true,
   "autoclose": false,
   "autocomplete": true,
   "bibliofile": "biblio.bib",
   "cite_by": "apalike",
   "current_citInitial": 1,
   "eqLabelWithNumbers": true,
   "eqNumInitial": 1,
   "hotkeys": {
    "equation": "Ctrl-E",
    "itemize": "Ctrl-I"
   },
   "labels_anchors": false,
   "latex_user_defs": false,
   "report_style_numbering": false,
   "user_envs_cfg": false
  }
 },
 "nbformat": 4,
 "nbformat_minor": 2
}
